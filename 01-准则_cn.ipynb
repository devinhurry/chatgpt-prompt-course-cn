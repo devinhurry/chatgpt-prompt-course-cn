{
 "cells": [
  {
   "cell_type": "markdown",
   "metadata": {},
   "source": [
    "# 设置\n",
    "\n",
    "以下单元格从 `.env` 文件中读取 OpenAI API 密钥："
   ]
  },
  {
   "cell_type": "code",
   "execution_count": 4,
   "metadata": {},
   "outputs": [],
   "source": [
    "import openai\n",
    "import os\n",
    "\n",
    "from dotenv import load_dotenv, find_dotenv\n",
    "_ = load_dotenv(find_dotenv())\n",
    "\n",
    "openai.api_key  = os.getenv('OPENAI_API_KEY')"
   ]
  },
  {
   "cell_type": "markdown",
   "metadata": {},
   "source": [
    "在整个课程中，我们将使用OpenAI的`gpt-3.5-turbo`模型和[聊天完成端点](https://platform.openai.com/docs/guides/chat)。\n",
    "\n",
    "这个辅助函数将使得使用提示和查看生成的输出更加容易："
   ]
  },
  {
   "cell_type": "code",
   "execution_count": 5,
   "metadata": {},
   "outputs": [],
   "source": [
    "def get_completion(prompt, model=\"gpt-3.5-turbo\"):\n",
    "    messages = [{\"role\": \"user\", \"content\": prompt}]\n",
    "    response = openai.ChatCompletion.create(\n",
    "        model=model,\n",
    "        messages=messages,\n",
    "        temperature=0, # 这是模型输出的随机程度\n",
    "    )\n",
    "    return response.choices[0].message[\"content\"]"
   ]
  },
  {
   "cell_type": "markdown",
   "metadata": {},
   "source": [
    "## 提示原则\n",
    "- **原则1：编写清晰明确的指令**\n",
    "- **原则2：给模型足够的“思考”时间**"
   ]
  },
  {
   "cell_type": "markdown",
   "metadata": {},
   "source": [
    "### 原则1：编写清晰明确的指令\n",
    "\n",
    "#### 策略1：使用分隔符清晰地指示输入的不同部分\n",
    "- 分隔符可以是任何东西，如：```, \"\"\", < >, `<tag> </tag>`, `:`"
   ]
  },
  {
   "cell_type": "code",
   "execution_count": 7,
   "metadata": {
    "scrolled": true
   },
   "outputs": [
    {
     "name": "stdout",
     "output_type": "stream",
     "text": [
      "编写清晰、具体的指令可以引导模型朝着期望的输出方向发展，减少无关或不正确响应的可能性，较长的提示提供更多的清晰度和上下文，可以导致更详细和相关的输出。\n"
     ]
    }
   ],
   "source": [
    "text = f\"\"\"\n",
    "您应该通过提供尽可能清晰和具体的指令来表达您希望模型执行的任务。\\\n",
    "这将引导模型朝着期望的输出方向发展，并减少接收到无关或不正确响应的可能性。\\\n",
    "不要将编写清晰提示与编写简短提示混淆。\\\n",
    "在许多情况下，较长的提示提供更多的清晰度和上下文，这可以导致更详细和相关的输出。\n",
    "\"\"\"\n",
    "prompt = f\"\"\"\n",
    "将三个反引号分隔的文本总结为一句话。\n",
    "```{text}```\n",
    "\"\"\"\n",
    "response = get_completion(prompt)\n",
    "print(response)"
   ]
  },
  {
   "cell_type": "markdown",
   "metadata": {},
   "source": [
    "#### 策略2：要求结构化输出\n",
    "- JSON，HTML"
   ]
  },
  {
   "cell_type": "code",
   "execution_count": 9,
   "metadata": {},
   "outputs": [
    {
     "name": "stdout",
     "output_type": "stream",
     "text": [
      "{\n",
      "  \"book1\": {\n",
      "    \"book_id\": 1,\n",
      "    \"title\": \"The Lost City\",\n",
      "    \"author\": \"Emily Jones\",\n",
      "    \"genre\": \"Adventure\"\n",
      "  },\n",
      "  \"book2\": {\n",
      "    \"book_id\": 2,\n",
      "    \"title\": \"The Secret Garden\",\n",
      "    \"author\": \"Sophie Lee\",\n",
      "    \"genre\": \"Fantasy\"\n",
      "  },\n",
      "  \"book3\": {\n",
      "    \"book_id\": 3,\n",
      "    \"title\": \"The Last Hope\",\n",
      "    \"author\": \"David Chen\",\n",
      "    \"genre\": \"Science Fiction\"\n",
      "  }\n",
      "}\n"
     ]
    }
   ],
   "source": [
    "prompt = f\"\"\"\n",
    "生成三个虚构书名，包括它们的作者和类型。\\\n",
    "以JSON格式提供，包括以下键：\\\n",
    "book_id，title，author，genre\n",
    "\"\"\"\n",
    "response = get_completion(prompt)\n",
    "print(response)"
   ]
  },
  {
   "cell_type": "code",
   "execution_count": 10,
   "metadata": {},
   "outputs": [
    {
     "name": "stdout",
     "output_type": "stream",
     "text": [
      "Text 1的完成情况：\n",
      "第1步 - 需要把一些水烧开。\n",
      "第2步 - 拿一个杯子并放入一个茶包。\n",
      "第3步 - 将热水倒在茶包上。\n",
      "第4步 - 让茶包浸泡一会儿。\n",
      "第5步 - 取出茶包。\n",
      "第6步 - 如果需要，加入糖或牛奶调味。\n",
      "第7步 - 完成！享用您的美味茶。\n"
     ]
    }
   ],
   "source": [
    "text_1 = f\"\"\"\n",
    "泡一杯茶很容易！首先，你需要把一些水烧开。在这个过程中，\\\n",
    "拿一个杯子并放入一个茶包。一旦水足够热，\\\n",
    "只需将其倒在茶包上。让它浸泡一会儿。几分钟后，\\\n",
    "取出茶包。如果你喜欢，可以加一些糖或牛奶调味。\\\n",
    "就这样！你有一杯美味的茶可以享用了。\n",
    "\"\"\"\n",
    "\n",
    "prompt = f\"\"\"\n",
    "您将获得由三个引号分隔的文本。如果它包含一系列指令，\\\n",
    "请按以下格式重新编写这些指令：\n",
    "\n",
    "第1步 - 需要把一些水烧开。\n",
    "第2步 - 拿一个杯子并放入一个茶包。\n",
    "第3步 - 将热水倒在茶包上。\n",
    "第4步 - 让茶包浸泡一会儿。\n",
    "第5步 - 取出茶包。\n",
    "第6步 - 如果需要，加入糖或牛奶调味。\n",
    "第7步 - 完成！享用您的美味茶。\n",
    "\n",
    "如果文本不包含一系列指令，则只需写“未提供步骤。”\n",
    "\n",
    "\\\"\\\"\\\"{text_1}\\\"\\\"\\\"\n",
    "\"\"\"\n",
    "response = get_completion(prompt)\n",
    "print(\"Text 1的完成情况：\")\n",
    "print(response)"
   ]
  },
  {
   "cell_type": "markdown",
   "metadata": {},
   "source": [
    "<block>\n",
    "策略3：要求模型检查条件是否满足\n",
    "</block>"
   ]
  },
  {
   "cell_type": "code",
   "execution_count": 12,
   "metadata": {},
   "outputs": [
    {
     "name": "stdout",
     "output_type": "stream",
     "text": [
      "Completion for Text 2:\n",
      "未提供步骤。\n"
     ]
    }
   ],
   "source": [
    "text_2 = f\"\"\"\n",
    "今天阳光明媚，鸟儿在唱歌。这是一个去公园散步的美好日子。花儿盛开，树木在微风中轻轻摇曳。人们出门享受美好的天气。有些人在野餐，有些人在玩游戏，\\\n",
    "还有些人只是在草地上放松。这是一个完美的日子，可以在户外度过时间，欣赏大自然的美丽。\n",
    "\"\"\"\n",
    "\n",
    "prompt = f\"\"\"\n",
    "您将获得由三个引号分隔的文本。如果它包含一系列指令，\\ \n",
    "请按以下格式重新编写这些指令：\n",
    "\n",
    "第1步 - ...\n",
    "第2步 - …\n",
    "…\n",
    "第N步 - …\n",
    "\n",
    "如果文本不包含一系列指令，则只需写“未提供步骤。”\n",
    "\n",
    "\\\"\\\"\\\"{text_2}\\\"\\\"\\\"\n",
    "\"\"\"\n",
    "\n",
    "response = get_completion(prompt)\n",
    "print(\"Completion for Text 2:\")\n",
    "print(response)"
   ]
  },
  {
   "cell_type": "markdown",
   "metadata": {},
   "source": [
    "#### 策略4：“少样本”提示"
   ]
  },
  {
   "cell_type": "code",
   "execution_count": 13,
   "metadata": {},
   "outputs": [
    {
     "name": "stdout",
     "output_type": "stream",
     "text": [
      "<grandparent>: 韧性来自于坚定的信念和不屈的意志，就像一棵树在风雨中弯曲但不折断。要有耐心和毅力，不断努力，才能在生活中展现出真正的韧性。\n"
     ]
    }
   ],
   "source": [
    "prompt = f\"\"\"\n",
    "你的任务是以一致的风格回答。\n",
    "\n",
    "<child>: 教我耐心。\n",
    "\n",
    "<grandparent>: 刻出最深的峡谷的河流源于一眼泉水； 最宏伟的交响乐始于一支乐曲； 最复杂的挂毯始于一根孤独的线。\n",
    "\n",
    "<child>: 教我韧性。\n",
    "\"\"\"\n",
    "response = get_completion(prompt)\n",
    "print(response)"
   ]
  },
  {
   "cell_type": "markdown",
   "metadata": {},
   "source": [
    "### 原则2：给模型时间“思考”\n",
    "\n",
    "#### 策略1：明确完成任务所需的步骤"
   ]
  },
  {
   "cell_type": "code",
   "execution_count": 14,
   "metadata": {},
   "outputs": [
    {
     "name": "stdout",
     "output_type": "stream",
     "text": [
      "Prompt 1的完成情况：\n",
      "1- Siblings Jack and Jill go on a quest for water, but misfortune strikes. Despite this, they remain adventurous and continue exploring.\n",
      "2- 在一个迷人的村庄里，兄妹杰克和吉尔出发去山顶的井里取水。当他们欢快地唱着歌爬上去时，不幸降临了——杰克绊倒在一块石头上，滚下了山坡，吉尔也跟着摔了下来。虽然有些受伤，但他们还是回到了家里得到了安慰的拥抱。尽管发生了不幸，他们的冒险精神仍然不减，他们继续愉快地探索。\n",
      "3- Jack、Jill\n",
      "4- {\"chinese_summary\": \"在一个迷人的村庄里，兄妹杰克和吉尔出发去山顶的井里取水。当他们欢快地唱着歌爬上去时，不幸降临了——杰克绊倒在一块石头上，滚下了山坡，吉尔也跟着摔了下来。虽然有些受伤，但他们还是回到了家里得到了安慰的拥抱。尽管发生了不幸，他们的冒险精神仍然不减，他们继续愉快地探索。\", \"num_names\": 2}\n"
     ]
    }
   ],
   "source": [
    "text = f\"\"\"\n",
    "In a charming village, siblings Jack and Jill set out on \\ \n",
    "a quest to fetch water from a hilltop \\ \n",
    "well. As they climbed, singing joyfully, misfortune \\ \n",
    "struck—Jack tripped on a stone and tumbled \\ \n",
    "down the hill, with Jill following suit. \\ \n",
    "Though slightly battered, the pair returned home to \\ \n",
    "comforting embraces. Despite the mishap, \\ \n",
    "their adventurous spirits remained undimmed, and they \\ \n",
    "continued exploring with delight.\n",
    "\"\"\"\n",
    "prompt_1 = f\"\"\"\n",
    "执行以下操作：\n",
    "1-用1句话总结三重反引号分隔的以下文本。\n",
    "2-将摘要翻译成中文。\n",
    "3-列出中文摘要中的每个名称。\n",
    "4-输出一个包含以下键的json对象：chinese_summary，num_names。\n",
    "\n",
    "用换行符分隔您的答案。\n",
    "\n",
    "文本：\n",
    "```{text}```\n",
    "\"\"\"\n",
    "response = get_completion(prompt_1)\n",
    "print(\"Prompt 1的完成情况：\")\n",
    "print(response)"
   ]
  },
  {
   "cell_type": "markdown",
   "metadata": {},
   "source": [
    "#### 请求以指定格式输出"
   ]
  },
  {
   "cell_type": "code",
   "execution_count": 15,
   "metadata": {},
   "outputs": [
    {
     "name": "stdout",
     "output_type": "stream",
     "text": [
      "\n",
      "Prompt 2的完成情况：\n",
      "摘要：Jack和Jill在一个迷人的村庄里出发去山顶的井里取水，但不幸的是，Jack绊倒了，Jill也跟着滚下山。尽管有些受伤，但他们的冒险精神仍然不减，继续愉快地探索。\n",
      "\n",
      "名称：Jack，Jill\n",
      "\n",
      "输出JSON：{\"chinese_summary\": \"Jack和Jill在一个迷人的村庄里出发去山顶的井里取水，但不幸的是，Jack绊倒了，Jill也跟着滚下山。尽管有些受伤，但他们的冒险精神仍然不减，继续愉快地探索。\", \"num_names\": 2}\n"
     ]
    }
   ],
   "source": [
    "prompt_2 = f\"\"\"\n",
    "你的任务是执行以下操作：\n",
    "1-用1个句子总结以下用<>分隔的文本。\n",
    "2-将摘要翻译成中文。\n",
    "3-列出中文摘要中的每个名称。\n",
    "4-输出一个包含以下键的json对象：chinese_summary，num_names。\n",
    "\n",
    "使用以下格式：\n",
    "文本：<要总结的文本>\n",
    "摘要：<摘要>\n",
    "翻译：<摘要翻译>\n",
    "名称：<中文摘要中的名称列表>\n",
    "输出JSON：<具有摘要和num_names的json>\n",
    "\n",
    "文本：<{text}>\n",
    "\"\"\"\n",
    "response = get_completion(prompt_2)\n",
    "print(\"\\nPrompt 2的完成情况：\")\n",
    "print(response)"
   ]
  },
  {
   "cell_type": "markdown",
   "metadata": {},
   "source": [
    "<block>\n",
    "策略2：在匆忙得出结论之前，指导模型自行解决问题。\n",
    "</block>"
   ]
  },
  {
   "cell_type": "code",
   "execution_count": 16,
   "metadata": {},
   "outputs": [
    {
     "name": "stdout",
     "output_type": "stream",
     "text": [
      "这个解决方案是正确的，它考虑了土地成本、太阳能电池板成本和维护成本，并计算出了总成本。\n"
     ]
    }
   ],
   "source": [
    "prompt = f\"\"\"\n",
    "确定学生的解决方案是否正确。\n",
    "\n",
    "问题：\n",
    "我正在建造一个太阳能发电装置，我需要帮助计算财务。\\\n",
    "- 土地成本为每平方英尺100美元\\\n",
    "- 我可以购买每平方英尺250美元的太阳能电池板\\\n",
    "- 我谈判了一份维护合同，每年将花费我固定的10万美元，以及每平方英尺额外的10美元\\\n",
    "作为第一年运营的总成本，其函数为平方英尺的数量。\n",
    "\n",
    "学生的解决方案：\n",
    "设x为安装面积，单位为平方英尺。\n",
    "成本：\n",
    "1. 土地成本：100x\n",
    "2. 太阳能电池板成本：250x\n",
    "3. 维护成本：100,000 + 100x\n",
    "总成本：100x + 250x + 100,000 + 100x = 450x + 100,000\n",
    "\"\"\"\n",
    "response = get_completion(prompt)\n",
    "print(response)"
   ]
  },
  {
   "cell_type": "markdown",
   "metadata": {},
   "source": [
    "注意，学生的解决方案实际上是不正确的。\n",
    "我们可以通过指示模型先找出自己的解决方案来解决这个问题。"
   ]
  },
  {
   "cell_type": "code",
   "execution_count": 18,
   "metadata": {},
   "outputs": [
    {
     "name": "stdout",
     "output_type": "stream",
     "text": [
      "解决方案和你的解决方案的步骤在这里：\n",
      "学生的解决方案是正确的。\n",
      "\n",
      "第一年的总成本为：\n",
      "1. 土地成本：100 * x 平方英尺\n",
      "2. 太阳能电池板成本：250 * x 平方英尺\n",
      "3. 维护成本：100,000 + 10 * x 平方英尺\n",
      "总成本：100 * x + 250 * x + 100,000 + 10 * x = 360 * x + 100,000\n",
      "\n",
      "学生的解决方案是否与实际解决方案相同：\n",
      "是\n",
      "\n",
      "学生的成绩：\n",
      "正确\n"
     ]
    }
   ],
   "source": [
    "prompt = f\"\"\"\n",
    "你的任务是确定学生的解决方案是否正确。\n",
    "解决问题的步骤如下：\n",
    "- 首先，自己解决问题。\n",
    "- 然后将自己的解决方案与学生的解决方案进行比较，并评估学生的解决方案是否正确。\n",
    "在自己解决问题之前，不要决定学生的解决方案是否正确。\n",
    "\n",
    "使用以下格式：\n",
    "问题：\n",
    "```\n",
    "问题在这里\n",
    "```\n",
    "学生的解决方案：\n",
    "```\n",
    "学生的解决方案在这里\n",
    "```\n",
    "实际解决方案：\n",
    "```\n",
    "解决方案和你的解决方案的步骤在这里\n",
    "```\n",
    "学生的解决方案是否与实际解决方案相同：\n",
    "```\n",
    "是或否\n",
    "```\n",
    "学生的成绩：\n",
    "```\n",
    "正确或不正确\n",
    "```\n",
    "\n",
    "问题：\n",
    "```\n",
    "我正在建造一个太阳能发电装置，我需要帮助解决财务问题。\n",
    "- 土地成本为每平方英尺100美元\n",
    "- 我可以以每平方英尺250美元的价格购买太阳能电池板\n",
    "- 我谈判了一份维护合同，每年的费用为固定的10万美元，以及每平方英尺额外的10美元\n",
    "作为平方英尺数量的函数，第一年运营的总成本是多少。\n",
    "``` \n",
    "学生的解决方案：\n",
    "```\n",
    "设x为安装面积的大小。\n",
    "成本：\n",
    "1. 土地成本：100x\n",
    "2. 太阳能电池板成本：250x\n",
    "3. 维护成本：100,000 + 100x\n",
    "总成本：100x + 250x + 100,000 + 100x = 450x + 100,000\n",
    "```\n",
    "实际解决方案：\n",
    "\"\"\"\n",
    "response = get_completion(prompt)\n",
    "print(response)"
   ]
  },
  {
   "cell_type": "markdown",
   "metadata": {},
   "source": [
    "## 模型限制：幻觉\n",
    "- Boie是一家真实的公司，产品名称不是真实的。"
   ]
  },
  {
   "cell_type": "code",
   "execution_count": 19,
   "metadata": {},
   "outputs": [
    {
     "name": "stdout",
     "output_type": "stream",
     "text": [
      "Boie的AeroGlide UltraSlim智能牙刷是一款高科技的电动牙刷，采用了先进的声波技术，能够提供高效的清洁效果。该牙刷的刷头非常细小，能够轻松进入牙缝和牙龈，清洁效果非常出色。此外，该牙刷还配备了智能感应技术，能够自动调节清洁力度和时间，让用户更加方便地使用。该牙刷还采用了环保材料制造，非常安全健康。总之，Boie的AeroGlide UltraSlim智能牙刷是一款高品质、高效率、高科技的电动牙刷，非常适合现代人的口腔清洁需求。\n"
     ]
    }
   ],
   "source": [
    "prompt = f\"\"\"\n",
    "告诉我关于Boie的AeroGlide UltraSlim智能牙刷的信息\n",
    "\"\"\"\n",
    "response = get_completion(prompt)\n",
    "print(response)"
   ]
  },
  {
   "cell_type": "code",
   "execution_count": null,
   "metadata": {},
   "outputs": [],
   "source": []
  }
 ],
 "metadata": {
  "kernelspec": {
   "display_name": "Python 3 (ipykernel)",
   "language": "python",
   "name": "python3"
  },
  "language_info": {
   "codemirror_mode": {
    "name": "ipython",
    "version": 3
   },
   "file_extension": ".py",
   "mimetype": "text/x-python",
   "name": "python",
   "nbconvert_exporter": "python",
   "pygments_lexer": "ipython3",
   "version": "3.10.9"
  },
  "nbTranslate": {
   "displayLangs": [
    "*"
   ],
   "hotkey": "alt-t",
   "langInMainMenu": true,
   "sourceLang": "en",
   "targetLang": "fr",
   "useGoogleTranslate": true
  }
 },
 "nbformat": 4,
 "nbformat_minor": 2
}
