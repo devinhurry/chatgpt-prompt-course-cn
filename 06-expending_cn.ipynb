{
 "cells": [
  {
   "cell_type": "markdown",
   "metadata": {},
   "source": [
    "# 扩展\n",
    "在这节课中，您将生成针对每个客户评论量身定制的客户服务电子邮件。"
   ]
  },
  {
   "cell_type": "code",
   "execution_count": 1,
   "metadata": {},
   "outputs": [],
   "source": [
    "import openai\n",
    "import os\n",
    "\n",
    "from dotenv import load_dotenv, find_dotenv\n",
    "_ = load_dotenv(find_dotenv()) # 读取本地的 .env 文件\n",
    "\n",
    "openai.api_key  = os.getenv('OPENAI_API_KEY')"
   ]
  },
  {
   "cell_type": "code",
   "execution_count": 2,
   "metadata": {},
   "outputs": [],
   "source": [
    "def get_completion(prompt, model=\"gpt-3.5-turbo\", temperature=0):\n",
    "    messages = [{\"role\": \"user\", \"content\": prompt}]\n",
    "    response = openai.ChatCompletion.create(\n",
    "        model=model,\n",
    "        messages=messages,\n",
    "        temperature=temperature, # 这是模型输出的随机程度\n",
    "    )\n",
    "    return response.choices[0].message[\"content\"]"
   ]
  },
  {
   "cell_type": "markdown",
   "metadata": {},
   "source": [
    "## 自定义自动回复客户电子邮件"
   ]
  },
  {
   "cell_type": "code",
   "execution_count": 3,
   "metadata": {},
   "outputs": [],
   "source": [
    "# 给定“推断”课程中的情感和原始客户消息，自定义电子邮件\n",
    "sentiment = \"负面\"\n",
    "\n",
    "# 评论搅拌机\n",
    "review = f\"\"\"\n",
    "所以，他们仍然在季节性销售中提供17件套装，价格约为49美元，\\\n",
    "在11月份，折扣了一半，但由于某种原因（称其为价格欺诈），\\\n",
    "在12月的第二周左右，所有价格都上涨了，价格大约在70-89美元之间，\\\n",
    "而11件套装的价格也从之前的29美元上涨了约10美元。\\\n",
    "所以看起来还不错，但如果你看底座，刀片锁定的部分看起来不如几年前的版本那么好，\\\n",
    "但我打算对它非常温柔（例如，我先在搅拌机中碾碎像豆子、冰、米饭等硬物，\\\n",
    "然后在搅拌机中将它们粉碎到我想要的份量，然后切换到打蛋器刀片制作更细的面粉，\\\n",
    "并在制作冰沙时首先使用交叉切割刀片，然后使用平刀片，如果需要更细/不那么浆状）。\\\n",
    "制作冰沙时的特别提示，将要使用的水果和蔬菜切碎并冷冻（如果使用菠菜-轻轻炖软菠菜，\\\n",
    "然后冷冻，直到准备使用-如果制作冰糕，使用小到中型的食品加工器），\\\n",
    "这样你就可以避免添加太多冰，如果有的话-制作你的冰沙。\\\n",
    "大约一年后，电机发出奇怪的声音。我打电话给客户服务，但保修已经过期了，\\\n",
    "所以我不得不再买一个。FYI：这些产品的整体质量已经下降了，\\\n",
    "所以他们有点依靠品牌认可和消费者忠诚度来维持销售。\\\n",
    "两天后收到了。\n",
    "\"\"\""
   ]
  },
  {
   "cell_type": "code",
   "execution_count": 7,
   "metadata": {},
   "outputs": [
    {
     "name": "stdout",
     "output_type": "stream",
     "text": [
      "尊敬的客户，\n",
      "\n",
      "非常感谢您对我们产品的评论。我们非常抱歉您在使用过程中遇到了问题。我们深刻理解您的不满和失望，并为此向您道歉。\n",
      "\n",
      "我们非常重视客户的反馈，我们将会把您的意见反馈给我们的产品团队，以便改进我们的产品和服务。如果您需要任何帮助或支持，请随时联系我们的客户服务团队，我们将竭诚为您服务。\n",
      "\n",
      "再次感谢您对我们的支持和反馈。\n",
      "\n",
      "祝您一切顺利！\n",
      "\n",
      "AI客户代理\n"
     ]
    }
   ],
   "source": [
    "prompt = f\"\"\"你是一名AI助手。\n",
    "您的任务是向一位重要客户发送电子邮件回复。\n",
    "给定客户电子邮件，生成回复以感谢客户的评论。\n",
    "如果情感是积极或中性的，请感谢他们的评论。\n",
    "如果情感是消极的，请道歉并建议他们可以联系客户服务。\n",
    "确保使用评论中的具体细节。\n",
    "以简洁和专业的语气写作。\n",
    "将电子邮件签名为“AI客户代理”。\n",
    "客户评论：```{review}```\n",
    "评论情感：{sentiment}\n",
    "\"\"\"\n",
    "response = get_completion(prompt)\n",
    "print(response)\n"
   ]
  },
  {
   "cell_type": "markdown",
   "metadata": {},
   "source": [
    "## 提醒模型使用客户电子邮件中的细节"
   ]
  },
  {
   "cell_type": "code",
   "execution_count": 8,
   "metadata": {},
   "outputs": [
    {
     "name": "stdout",
     "output_type": "stream",
     "text": [
      "尊敬的客户，\n",
      "\n",
      "我们很抱歉听到您的不满和经历。我们感谢您对我们产品的评论和反馈。我们理解您的情况并深表歉意，我们的目标是为所有客户提供出色的产品和服务。\n",
      "\n",
      "我们确信，我们的产品可以为您提供最佳的体验，但您的情况显然不是这样。我们的客户服务团队将竭尽全力为您提供帮助和支持。请随时联系我们的客户服务团队，让我们为您解决任何问题或疑虑。\n",
      "\n",
      "再次感谢您对我们产品的评论和反馈。我们将继续努力提供优质的产品和服务，以满足您的需求。\n",
      "\n",
      "祝您一切顺利。\n",
      "\n",
      "AI客户代表\n"
     ]
    }
   ],
   "source": [
    "prompt = f\"\"\"\n",
    "您是一名客服AI助手。\n",
    "您的任务是向一位重要客户发送电子邮件回复。\n",
    "给定客户电子邮件，生成回复以感谢客户的评论。\n",
    "如果情感是积极或中性的，请感谢他们的评论。\n",
    "如果情感是消极的，请道歉并建议他们可以联系客户服务。\n",
    "确保使用评论中的具体细节。\n",
    "以简洁和专业的语气写作。\n",
    "将电子邮件签名为“AI客户代理”。\n",
    "客户评论：```{review}```\n",
    "评论情感：{sentiment}\n",
    "\"\"\"\n",
    "response = get_completion(prompt, temperature=0.7)\n",
    "print(response)"
   ]
  },
  {
   "cell_type": "code",
   "execution_count": null,
   "metadata": {},
   "outputs": [],
   "source": []
  }
 ],
 "metadata": {
  "kernelspec": {
   "display_name": "Python 3 (ipykernel)",
   "language": "python",
   "name": "python3"
  },
  "language_info": {
   "codemirror_mode": {
    "name": "ipython",
    "version": 3
   },
   "file_extension": ".py",
   "mimetype": "text/x-python",
   "name": "python",
   "nbconvert_exporter": "python",
   "pygments_lexer": "ipython3",
   "version": "3.10.9"
  },
  "nbTranslate": {
   "displayLangs": [
    "*"
   ],
   "hotkey": "alt-t",
   "langInMainMenu": true,
   "sourceLang": "en",
   "targetLang": "fr",
   "useGoogleTranslate": true
  }
 },
 "nbformat": 4,
 "nbformat_minor": 2
}
