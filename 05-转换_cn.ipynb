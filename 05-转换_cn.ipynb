{
 "cells": [
  {
   "cell_type": "markdown",
   "metadata": {},
   "source": [
    "# 转换\n",
    "\n",
    "在这个笔记本中，我们将探讨如何使用大型语言模型进行文本转换任务，例如语言翻译、拼写和语法检查、语气调整和格式转换。"
   ]
  },
  {
   "cell_type": "code",
   "execution_count": 1,
   "metadata": {},
   "outputs": [],
   "source": [
    "import openai\n",
    "import os\n",
    "\n",
    "from dotenv import load_dotenv, find_dotenv\n",
    "_ = load_dotenv(find_dotenv()) # 读取本地的 .env 文件\n",
    "\n",
    "openai.api_key  = os.getenv('OPENAI_API_KEY')"
   ]
  },
  {
   "cell_type": "code",
   "execution_count": 2,
   "metadata": {},
   "outputs": [],
   "source": [
    "def get_completion(prompt, model=\"gpt-3.5-turbo\"):\n",
    "    messages = [{\"role\": \"user\", \"content\": prompt}]\n",
    "    response = openai.ChatCompletion.create(\n",
    "        model=model,\n",
    "        messages=messages,\n",
    "        temperature=0, # 这是模型输出的随机程度\n",
    "    )\n",
    "    return response.choices[0].message[\"content\"]"
   ]
  },
  {
   "cell_type": "markdown",
   "metadata": {},
   "source": [
    "## 翻译\n",
    "\n",
    "ChatGPT训练了许多语言的来源。这使得模型具有翻译能力。以下是如何使用此功能的一些示例。"
   ]
  },
  {
   "cell_type": "code",
   "execution_count": 4,
   "metadata": {},
   "outputs": [
    {
     "name": "stdout",
     "output_type": "stream",
     "text": [
      "嗨，我想订购一个搅拌机。\n"
     ]
    }
   ],
   "source": [
    "prompt = f\"\"\"\n",
    "将以下英文文本翻译成中文：\\\n",
    "```Hi, I would like to order a blender```\\\n",
    "\"\"\"\n",
    "response = get_completion(prompt)\n",
    "print(response)\n"
   ]
  },
  {
   "cell_type": "code",
   "execution_count": 6,
   "metadata": {},
   "outputs": [
    {
     "name": "stdout",
     "output_type": "stream",
     "text": [
      "这是中文。\n"
     ]
    }
   ],
   "source": [
    "prompt = f\"\"\"\n",
    "告诉我这是哪种语言：\n",
    "```我希望我的“自我”永远“滋滋”地响，翻腾不休，\\\n",
    "就像火炭上的一滴糖 - 王小波```\n",
    "\"\"\"\n",
    "response = get_completion(prompt)\n",
    "print(response)"
   ]
  },
  {
   "cell_type": "code",
   "execution_count": 7,
   "metadata": {},
   "outputs": [
    {
     "name": "stdout",
     "output_type": "stream",
     "text": [
      "中文海盗：吾欲订购一枚篮球\n",
      "西班牙语海盗：Quiero ordenar una pelota de baloncesto\n",
      "英语海盗：I be wantin' to order a basketball\n"
     ]
    }
   ],
   "source": [
    "prompt = f\"\"\"\n",
    "将以下文本翻译成中文、西班牙语和英语海盗：\\\n",
    "```我想订购一个篮球```\\\n",
    "\"\"\"\n",
    "response = get_completion(prompt)\n",
    "print(response)"
   ]
  },
  {
   "cell_type": "code",
   "execution_count": 8,
   "metadata": {},
   "outputs": [
    {
     "name": "stdout",
     "output_type": "stream",
     "text": [
      "正式：您是否需要订购一个枕头？\n",
      "非正式：你要不要订一个枕头？\n"
     ]
    }
   ],
   "source": [
    "prompt = f\"\"\"\n",
    "请用正式和非正式的形式将以下文本翻译成中文：\n",
    "“Would you like to order a pillow?”\n",
    "\"\"\"\n",
    "response = get_completion(prompt)\n",
    "print(response)"
   ]
  },
  {
   "cell_type": "markdown",
   "metadata": {},
   "source": [
    "### 通用翻译器\n",
    "想象一下，你是一家大型跨国电商公司的IT负责人。用户用他们的母语向你发送IT问题。你的员工来自世界各地，只会说他们的母语。你需要一个通用翻译器！"
   ]
  },
  {
   "cell_type": "code",
   "execution_count": 9,
   "metadata": {},
   "outputs": [],
   "source": [
    "user_messages = [\n",
    "  \"La performance du système est plus lente que d'habitude.\",  # System performance is slower than normal         \n",
    "  \"Mi monitor tiene píxeles que no se iluminan.\",              # My monitor has pixels that are not lighting\n",
    "  \"Il mio mouse non funziona\",                                 # My mouse is not working\n",
    "  \"Mój klawisz Ctrl jest zepsuty\",                             # My keyboard has a broken control key\n",
    "  \"我的屏幕在闪烁\"                                               # My screen is flashing\n",
    "] "
   ]
  },
  {
   "cell_type": "code",
   "execution_count": 10,
   "metadata": {},
   "outputs": [
    {
     "name": "stdout",
     "output_type": "stream",
     "text": [
      "原始消息（这是法语。）：La performance du système est plus lente que d'habitude.\n",
      "英文翻译：The system performance is slower than usual.\n",
      "\n",
      "中文翻译：系统性能比平常慢。 \n",
      "\n",
      "原始消息（这是西班牙语。）：Mi monitor tiene píxeles que no se iluminan.\n",
      "英文翻译：My monitor has pixels that don't light up.\n",
      "\n",
      "中文翻译：我的显示器有一些像素不亮。 \n",
      "\n",
      "原始消息（这是意大利语。）：Il mio mouse non funziona\n",
      "英文翻译：My mouse is not working.\n",
      "\n",
      "中文翻译：我的鼠标不工作。 \n",
      "\n",
      "原始消息（这是波兰语。）：Mój klawisz Ctrl jest zepsuty\n",
      "英文：My Ctrl key is broken\n",
      "中文：我的Ctrl键坏了 \n",
      "\n",
      "原始消息（这是中文。）：我的屏幕在闪烁\n",
      "英文：My screen is flickering.\n",
      "\n",
      "中文：我的屏幕在闪烁。 \n",
      "\n"
     ]
    }
   ],
   "source": [
    "for issue in user_messages:\n",
    "    prompt = f\"告诉我这是什么语言：```{issue}```\"\n",
    "    lang = get_completion(prompt)\n",
    "    print(f\"原始消息（{lang}）：{issue}\")\n",
    "\n",
    "    prompt = f\"\"\"\n",
    "    将以下文本翻译成英文和中文：```{issue}```\n",
    "    \"\"\"\n",
    "    response = get_completion(prompt)\n",
    "    print(response, \"\\n\")"
   ]
  },
  {
   "cell_type": "markdown",
   "metadata": {},
   "source": [
    "## 语气转换\n",
    "写作可以根据预期受众而有所不同。ChatGPT可以产生不同的语气。"
   ]
  },
  {
   "cell_type": "code",
   "execution_count": 12,
   "metadata": {},
   "outputs": [
    {
     "name": "stdout",
     "output_type": "stream",
     "text": [
      "尊敬的先生/女士，我是乔，想请您查看一下这个落地灯的规格。\n"
     ]
    }
   ],
   "source": [
    "prompt = f\"\"\"\n",
    "将以下俚语翻译成商业信函： \n",
    "“兄弟，这是乔，看看这个落地灯的规格。”\n",
    "\"\"\"\n",
    "response = get_completion(prompt)\n",
    "print(response)"
   ]
  },
  {
   "cell_type": "markdown",
   "metadata": {},
   "source": [
    "## 格式转换\n",
    "ChatGPT可以在不同格式之间进行翻译。提示应该描述输入和输出格式。"
   ]
  },
  {
   "cell_type": "code",
   "execution_count": 13,
   "metadata": {},
   "outputs": [
    {
     "name": "stdout",
     "output_type": "stream",
     "text": [
      "<!DOCTYPE html>\n",
      "<html>\n",
      "<head>\n",
      "\t<title>Restaurant Staff</title>\n",
      "\t<style>\n",
      "\t\ttable, th, td {\n",
      "\t\t\tborder: 1px solid black;\n",
      "\t\t\tborder-collapse: collapse;\n",
      "\t\t\tpadding: 5px;\n",
      "\t\t}\n",
      "\t</style>\n",
      "</head>\n",
      "<body>\n",
      "\t<h1>Restaurant Staff</h1>\n",
      "\t<table>\n",
      "\t\t<thead>\n",
      "\t\t\t<tr>\n",
      "\t\t\t\t<th>Name</th>\n",
      "\t\t\t\t<th>Email</th>\n",
      "\t\t\t</tr>\n",
      "\t\t</thead>\n",
      "\t\t<tbody>\n",
      "\t\t\t{% for staff in restaurant_staff %}\n",
      "\t\t\t<tr>\n",
      "\t\t\t\t<td>{{ staff['姓名'] }}</td>\n",
      "\t\t\t\t<td>{{ staff['电子邮件'] }}</td>\n",
      "\t\t\t</tr>\n",
      "\t\t\t{% endfor %}\n",
      "\t\t</tbody>\n",
      "\t</table>\n",
      "</body>\n",
      "</html>\n"
     ]
    }
   ],
   "source": [
    "data_json = { \"餐厅员工\" :[ \n",
    "    {\"姓名\":\"Shyam\", \"电子邮件\":\"shyamjaiswal@gmail.com\"},\n",
    "    {\"姓名\":\"Bob\", \"电子邮件\":\"bob32@gmail.com\"},\n",
    "    {\"姓名\":\"Jai\", \"电子邮件\":\"jai87@gmail.com\"}\n",
    "]}\n",
    "\n",
    "prompt = f\"\"\"\n",
    "将以下Python字典从JSON转换为带有列标题和标题的HTML表格：{data_json}\\\n",
    "\"\"\"\n",
    "response = get_completion(prompt)\n",
    "print(response)"
   ]
  },
  {
   "cell_type": "code",
   "execution_count": 20,
   "metadata": {},
   "outputs": [
    {
     "data": {
      "text/html": [
       "# 评论：可爱的熊猫玩具\n",
       "\n",
       "我为女儿的生日买了这个熊猫玩具，因为她总是从我的房间里拿走我的。是的，成年人也喜欢熊猫。她随身携带它，它非常柔软和可爱。其中一只耳朵比另一只低，我不认为这是设计上的不对称。但是，相对于价格来说，它有点小了。我认为可能有其他同样价格但更大的选择。它比预期提前了一天到达，所以我在把它送给女儿之前自己玩了一下。\n",
       "\n",
       "这个评论使用了清晰的语言和简单的句子，同时也遵循了APA样式指南。它针对高级读者，提供了有用的信息和个人经验。同时，它也很好地强调了这个熊猫玩具的可爱和柔软。"
      ],
      "text/plain": [
       "<IPython.core.display.HTML object>"
      ]
     },
     "metadata": {},
     "output_type": "display_data"
    }
   ],
   "source": [
    "from IPython.display import display, Markdown, Latex, HTML, JSON\n",
    "display(HTML(response))"
   ]
  },
  {
   "cell_type": "markdown",
   "metadata": {},
   "source": [
    "## 拼写检查/语法检查。\n",
    "\n",
    "以下是常见语法和拼写问题的示例以及LLM的响应。\n",
    "\n",
    "为了向LLM发出您想要它校对您的文本的信号，您可以指示模型进行“校对”或“校对和更正”。"
   ]
  },
  {
   "cell_type": "code",
   "execution_count": 15,
   "metadata": {},
   "outputs": [
    {
     "name": "stdout",
     "output_type": "stream",
     "text": [
      "未发现错误。\n",
      "未发现错误。\n",
      "未发现错误。\n",
      "未发现错误。 \n",
      "\n",
      "重写：他们已经离开了，带着行李。\n",
      "未发现错误。\n",
      "未发现错误。\n",
      "\n",
      "重写：无需重写。\n",
      "未发现错误。\n"
     ]
    }
   ],
   "source": [
    "text = [ \n",
    "  \"黑白小狗的女孩有一个球。\",  # The girl has a ball.\n",
    "  \"Yolanda有她的笔记本。\", # ok\n",
    "  \"这将是一个漫长的一天。汽车需要更换油吗？\",  # Homonyms\n",
    "  \"他们的自由走了。他们将带来他们的行李。\",  # Homonyms\n",
    "  \"你需要你的笔记本电脑。\",  # Homonyms\n",
    "  \"这种药影响我的睡眠能力。你听说过蝴蝶效应吗？\", # Homonyms\n",
    "  \"这个短语是为了检查chatGPT的拼写能力\"  # spelling\n",
    "]\n",
    "for t in text:\n",
    "    prompt = f\"\"\"校对并纠正以下文本，并重写已更正的版本。如果您没有发现任何错误，请说“未发现错误”。\\\n",
    "在文本周围不要使用任何标点符号：\n",
    "    ```{t}```\"\"\"\n",
    "    response = get_completion(prompt)\n",
    "    print(response)"
   ]
  },
  {
   "cell_type": "code",
   "execution_count": 23,
   "metadata": {},
   "outputs": [
    {
     "name": "stdout",
     "output_type": "stream",
     "text": [
      "I got this for my daughter's birthday because she keeps taking mine from my room. Yes, even adults like pandas too. She takes it everywhere with her, and it's super soft and cute. However, one of the ears is a bit lower than the other, and I don't think that was designed to be asymmetrical. Also, it's a bit small for the price I paid. I think there might be other options that are bigger for the same price. On the positive side, it arrived a day earlier than expected, so I got to play with it myself before giving it to my daughter.\n"
     ]
    }
   ],
   "source": [
    "text = f\"\"\"\n",
    "Got this for my daughter for her birthday cuz she keeps taking \\\n",
    "mine from my room.  Yes, adults also like pandas too.  She takes \\\n",
    "it everywhere with her, and it's super soft and cute.  One of the \\\n",
    "ears is a bit lower than the other, and I don't think that was \\\n",
    "designed to be asymmetrical. It's a bit small for what I paid for it \\\n",
    "though. I think there might be other options that are bigger for \\\n",
    "the same price.  It arrived a day earlier than expected, so I got \\\n",
    "to play with it myself before I gave it to my daughter.\"\"\"\n",
    "prompt = f\"校对并纠正此评论：```{text}```\"\n",
    "response = get_completion(prompt)\n",
    "print(response)"
   ]
  },
  {
   "cell_type": "code",
   "execution_count": 24,
   "metadata": {},
   "outputs": [
    {
     "data": {
      "text/markdown": [
       "<span style=\"color:red;font-weight:700;text-decoration:line-through;\">Got </span><span style=\"color:red;font-weight:700;\">I got </span>this for my <span style=\"color:red;font-weight:700;text-decoration:line-through;\">daughter for her </span><span style=\"color:red;font-weight:700;\">daughter's </span>birthday <span style=\"color:red;font-weight:700;text-decoration:line-through;\">cuz </span><span style=\"color:red;font-weight:700;\">because </span>she keeps taking mine from my <span style=\"color:red;font-weight:700;text-decoration:line-through;\">room.  </span><span style=\"color:red;font-weight:700;\">room. </span>Yes, <span style=\"color:red;font-weight:700;\">even </span>adults <span style=\"color:red;font-weight:700;text-decoration:line-through;\">also </span>like pandas <span style=\"color:red;font-weight:700;text-decoration:line-through;\">too.  </span><span style=\"color:red;font-weight:700;\">too. </span>She takes it everywhere with her, and it's super soft and <span style=\"color:red;font-weight:700;text-decoration:line-through;\">cute.  One </span><span style=\"color:red;font-weight:700;\">cute. However, one </span>of the ears is a bit lower than the other, and I don't think that was designed to be asymmetrical. <span style=\"color:red;font-weight:700;text-decoration:line-through;\">It's </span><span style=\"color:red;font-weight:700;\">Also, it's </span>a bit small for <span style=\"color:red;font-weight:700;text-decoration:line-through;\">what </span><span style=\"color:red;font-weight:700;\">the price </span>I <span style=\"color:red;font-weight:700;text-decoration:line-through;\">paid for it though. </span><span style=\"color:red;font-weight:700;\">paid. </span>I think there might be other options that are bigger for the same <span style=\"color:red;font-weight:700;text-decoration:line-through;\">price.  It </span><span style=\"color:red;font-weight:700;\">price. On the positive side, it </span>arrived a day earlier than expected, so I got to play with it myself before <span style=\"color:red;font-weight:700;text-decoration:line-through;\">I gave </span><span style=\"color:red;font-weight:700;\">giving </span>it to my daughter."
      ],
      "text/plain": [
       "<IPython.core.display.Markdown object>"
      ]
     },
     "metadata": {},
     "output_type": "display_data"
    }
   ],
   "source": [
    "from redlines import Redlines\n",
    "\n",
    "diff = Redlines(text, response)\n",
    "display(Markdown(diff.output_markdown))"
   ]
  },
  {
   "cell_type": "code",
   "execution_count": 25,
   "metadata": {},
   "outputs": [
    {
     "data": {
      "text/markdown": [
       "# 评论：可爱的熊猫玩具\n",
       "\n",
       "我为女儿的生日买了这个熊猫玩具，因为她总是从我的房间里拿走我的。是的，成年人也喜欢熊猫。她随身携带它，它非常柔软和可爱。其中一只耳朵比另一只低，我不认为这是设计上的不对称。但是，相对于价格来说，它有点小了。我认为可能有其他同样价格但更大的选择。它比预期提前了一天到达，所以我在把它送给女儿之前自己玩了一下。\n",
       "\n",
       "这个评论遵循APA样式指南，使用markdown格式输出。它针对高级读者，更具吸引力，语言更加流畅。"
      ],
      "text/plain": [
       "<IPython.core.display.Markdown object>"
      ]
     },
     "metadata": {},
     "output_type": "display_data"
    }
   ],
   "source": [
    "prompt = f\"\"\"\n",
    "校对并纠正此评论。使其更具吸引力。确保它遵循APA样式指南并针对高级读者。\\\n",
    "以markdown格式输出。\\\n",
    "文本：```{text}```\n",
    "\"\"\"\n",
    "response = get_completion(prompt)\n",
    "display(Markdown(response))"
   ]
  },
  {
   "cell_type": "code",
   "execution_count": null,
   "metadata": {},
   "outputs": [],
   "source": []
  }
 ],
 "metadata": {
  "kernelspec": {
   "display_name": "Python 3 (ipykernel)",
   "language": "python",
   "name": "python3"
  },
  "language_info": {
   "codemirror_mode": {
    "name": "ipython",
    "version": 3
   },
   "file_extension": ".py",
   "mimetype": "text/x-python",
   "name": "python",
   "nbconvert_exporter": "python",
   "pygments_lexer": "ipython3",
   "version": "3.10.9"
  },
  "nbTranslate": {
   "displayLangs": [
    "*"
   ],
   "hotkey": "alt-t",
   "langInMainMenu": true,
   "sourceLang": "en",
   "targetLang": "fr",
   "useGoogleTranslate": true
  }
 },
 "nbformat": 4,
 "nbformat_minor": 2
}
