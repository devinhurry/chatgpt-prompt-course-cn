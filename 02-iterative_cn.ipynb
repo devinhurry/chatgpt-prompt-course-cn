{
 "cells": [
  {
   "cell_type": "markdown",
   "metadata": {},
   "source": [
    "# 迭代式提示开发\n",
    "在本课程中，您将迭代地分析和完善您的提示，从产品说明书中生成营销文案。"
   ]
  },
  {
   "cell_type": "code",
   "execution_count": 1,
   "metadata": {},
   "outputs": [],
   "source": [
    "import openai\n",
    "import os\n",
    "\n",
    "from dotenv import load_dotenv, find_dotenv\n",
    "_ = load_dotenv(find_dotenv()) # 读取本地的 .env 文件\n",
    "\n",
    "openai.api_key  = os.getenv('OPENAI_API_KEY')"
   ]
  },
  {
   "cell_type": "code",
   "execution_count": 2,
   "metadata": {},
   "outputs": [],
   "source": [
    "def get_completion(prompt, model=\"gpt-3.5-turbo\"):\n",
    "    messages = [{\"role\": \"user\", \"content\": prompt}]\n",
    "    response = openai.ChatCompletion.create(\n",
    "        model=model,\n",
    "        messages=messages,\n",
    "        temperature=0, # 这是模型输出的随机程度\n",
    "    )\n",
    "    return response.choices[0].message[\"content\"]"
   ]
  },
  {
   "cell_type": "markdown",
   "metadata": {},
   "source": [
    "## 从产品说明书中生成营销产品描述"
   ]
  },
  {
   "cell_type": "code",
   "execution_count": 3,
   "metadata": {},
   "outputs": [],
   "source": [
    "fact_sheet_chair = \"\"\"\n",
    "概述\n",
    "- 美丽的中世纪风格办公家具系列的一部分，包括文件柜、书桌、书架、会议桌等。\n",
    "- 有多种外壳颜色和底座饰面可选。\n",
    "- 可以选择塑料背面和前面的软垫（SWC-100）或10种织物和6种皮革的全套软垫（SWC-110）。\n",
    "- 底座饰面选项有：不锈钢、哑光黑色、光泽白色或铬。\n",
    "- 椅子可以有扶手或没有扶手。\n",
    "- 适用于家庭或商业环境。\n",
    "- 合格的合同使用。\n",
    "\n",
    "结构\n",
    "- 5个轮子的塑料涂层铝底座。\n",
    "- 气动椅子调节，方便升降操作。\n",
    "\n",
    "尺寸\n",
    "- 宽度53厘米|20.87英寸\n",
    "- 深度51厘米|20.08英寸\n",
    "- 高度80厘米|31.50英寸\n",
    "- 座高44厘米|17.32英寸\n",
    "- 座深41厘米|16.14英寸\n",
    "\n",
    "选项\n",
    "- 软地板或硬地板脚轮选项。\n",
    "- 两种座椅泡沫密度选择：中等（1.8磅/立方英尺）或高（2.8磅/立方英尺）\n",
    "- 无扶手或8个位置的PU扶手\n",
    "\n",
    "材料\n",
    "外壳底座滑轮\n",
    "- 铸铝，改性尼龙PA6 / PA66涂层。\n",
    "- 外壳厚度：10毫米。\n",
    "座位\n",
    "- HD36泡沫\n",
    "\n",
    "原产国\n",
    "- 意大利\n",
    "\"\"\""
   ]
  },
  {
   "cell_type": "code",
   "execution_count": 5,
   "metadata": {},
   "outputs": [
    {
     "name": "stdout",
     "output_type": "stream",
     "text": [
      "产品描述：\n",
      "\n",
      "这款中世纪风格的办公家具系列包括文件柜、书桌、书架和会议桌等，适用于家庭或商业环境。您可以根据自己的喜好选择多种外壳颜色和底座饰面，包括不锈钢、哑光黑色、光泽白色或铬。此外，您还可以选择塑料背面和前面的软垫（SWC-100）或10种织物和6种皮革的全套软垫（SWC-110）。椅子可以有扶手或没有扶手，您可以选择软地板或硬地板脚轮选项。座椅泡沫密度有两种选择：中等（1.8磅/立方英尺）或高（2.8磅/立方英尺）。此外，座椅还有8个位置的PU扶手可供选择。这款办公家具系列的底座采用5个轮子的塑料涂层铝底座，气动椅子调节方便升降操作。此外，外壳底座滑轮采用铸铝，改性尼龙PA6 / PA66涂层，外壳厚度为10毫米。座位采用HD36泡沫，原产国为意大利。这款办公家具系列符合合格的合同使用。\n"
     ]
    }
   ],
   "source": [
    "prompt = f\"\"\"\n",
    "您的任务是帮助市场团队根据技术规格说明书为零售网站创建产品描述。\n",
    "\n",
    "根据技术规格说明书提供的信息编写产品描述，使用三个反引号分隔。\n",
    "\n",
    "技术规格说明书：```{fact_sheet_chair}```\n",
    "\"\"\"\n",
    "response = get_completion(prompt)\n",
    "print(response)"
   ]
  },
  {
   "cell_type": "markdown",
   "metadata": {},
   "source": [
    "问题1：文本太长\n",
    "- 限制单词/句子/字符数量。"
   ]
  },
  {
   "cell_type": "code",
   "execution_count": 6,
   "metadata": {},
   "outputs": [
    {
     "name": "stdout",
     "output_type": "stream",
     "text": [
      "这款中世纪风格的办公家具系列包括文件柜、书桌、书架和会议桌等。可选多种外壳颜色和底座饰面，还可选择软垫和座椅扶手。底座饰面选项有不锈钢、哑光黑色、光泽白色或铬。座椅采用气动调节，可方便升降操作。适用于家庭或商业环境，合格的合同使用。\n",
      "116\n"
     ]
    }
   ],
   "source": [
    "prompt = f\"\"\"\n",
    "您的任务是帮助营销团队根据技术规格说明书为零售网站的产品创建描述。\n",
    "\n",
    "根据三个反引号分隔的技术规格说明书提供的信息编写产品描述。\n",
    "\n",
    "最多使用50个单词。\n",
    "\n",
    "技术规格说明书：```{fact_sheet_chair}```\n",
    "\"\"\"\n",
    "response = get_completion(prompt)\n",
    "print(response)\n",
    "print(len(response))"
   ]
  },
  {
   "cell_type": "markdown",
   "metadata": {},
   "source": [
    "问题2. 文本关注了错误的细节\n",
    "- 要求它关注与目标受众相关的方面。"
   ]
  },
  {
   "cell_type": "code",
   "execution_count": 7,
   "metadata": {},
   "outputs": [
    {
     "name": "stdout",
     "output_type": "stream",
     "text": [
      "这款中世纪风格的办公家具系列包括文件柜、书桌、书架和会议桌等。可选多种外壳颜色和底座饰面，底座饰面选项有不锈钢、哑光黑色、光泽白色或铬。椅子可以有扶手或没有扶手，适用于家庭或商业环境。座位采用HD36泡沫，外壳底座滑轮采用铸铝和改性尼龙PA6 / PA66涂层。原产国为意大利。\n"
     ]
    }
   ],
   "source": [
    "prompt = f\"\"\"\n",
    "您的任务是帮助营销团队根据技术规格说明书为零售网站的产品创建描述。\n",
    "\n",
    "根据技术规格说明书提供的信息编写产品描述，使用三个反引号分隔。\n",
    "\n",
    "描述面向家具零售商，因此应具有技术性质，并侧重于产品构造材料。\n",
    "\n",
    "最多使用50个单词。\n",
    "\n",
    "技术规格：```{fact_sheet_chair}```\n",
    "\"\"\"\n",
    "response = get_completion(prompt)\n",
    "print(response)"
   ]
  },
  {
   "cell_type": "code",
   "execution_count": 8,
   "metadata": {},
   "outputs": [
    {
     "name": "stdout",
     "output_type": "stream",
     "text": [
      "这个中世纪风格的办公家具系列包括文件柜、书桌、书架和会议桌等。外壳颜色和底座饰面有多种选择，包括不锈钢、哑光黑色、光泽白色或铬。椅子可以有扶手或没有扶手，适用于家庭或商业环境。座位采用HD36泡沫，外壳底座滑轮采用铸铝和改性尼龙PA6 / PA66涂层。这个系列的产品可以选择软地板或硬地板脚轮，两种座椅泡沫密度选择：中等（1.8磅/立方英尺）或高（2.8磅/立方英尺），以及无扶手或8个位置的PU扶手。产品ID：SWC-100。\n"
     ]
    }
   ],
   "source": [
    "prompt = f\"\"\"\n",
    "您的任务是帮助营销团队根据技术规格说明书为零售网站的产品创建描述。\n",
    "\n",
    "根据技术规格说明书提供的信息编写产品描述。\n",
    "\n",
    "描述应该是技术性的，重点是产品的材料。\n",
    "\n",
    "在描述的末尾，包括技术规格说明书中每个7个字符的产品ID。\n",
    "\n",
    "使用最多50个单词。\n",
    "\n",
    "技术规格：```{fact_sheet_chair}```\n",
    "\"\"\"\n",
    "response = get_completion(prompt)\n",
    "print(response)"
   ]
  },
  {
   "cell_type": "markdown",
   "metadata": {},
   "source": [
    "问题3. 描述需要一个尺寸表格\n",
    "- 请求提取信息并将其组织成表格。"
   ]
  },
  {
   "cell_type": "code",
   "execution_count": 10,
   "metadata": {},
   "outputs": [
    {
     "name": "stdout",
     "output_type": "stream",
     "text": [
      "<div>\n",
      "<h2>产品描述</h2>\n",
      "<p>这款中世纪风格的办公家具系列包括文件柜、书桌、书架和会议桌等。您可以选择多种外壳颜色和底座饰面，以及软垫选项。底座饰面可以是不锈钢、哑光黑色、光泽白色或铬。椅子可以有扶手或没有扶手，适用于家庭或商业环境，并且符合合同使用标准。</p>\n",
      "<p>座位采用HD36泡沫，外壳底座滑轮采用铸铝和改性尼龙PA6 / PA66涂层。座椅泡沫密度有两种选择：中等（1.8磅/立方英尺）或高（2.8磅/立方英尺）。您还可以选择软地板或硬地板脚轮选项，以及无扶手或8个位置的PU扶手。</p>\n",
      "<p>这款办公家具系列的底座采用5个轮子的塑料涂层铝底座，具有气动椅子调节功能，方便升降操作。外壳厚度为10毫米。这款办公家具系列的原产国是意大利。</p>\n",
      "<p>产品ID：SWC-100</p>\n",
      "</div>\n",
      "\n",
      "<table>\n",
      "  <tr>\n",
      "    <td>宽度</td>\n",
      "    <td>20.87英寸</td>\n",
      "  </tr>\n",
      "  <tr>\n",
      "    <td>深度</td>\n",
      "    <td>20.08英寸</td>\n",
      "  </tr>\n",
      "  <tr>\n",
      "    <td>高度</td>\n",
      "    <td>31.50英寸</td>\n",
      "  </tr>\n",
      "  <tr>\n",
      "    <td>座高</td>\n",
      "    <td>17.32英寸</td>\n",
      "  </tr>\n",
      "  <tr>\n",
      "    <td>座深</td>\n",
      "    <td>16.14英寸</td>\n",
      "  </tr>\n",
      "</table>\n",
      "\n",
      "<h2>产品尺寸</h2>\n"
     ]
    }
   ],
   "source": [
    "prompt = f\"\"\"\n",
    "您的任务是助市场团队创建一个零售网站的产品描述，该描述基于技术规格说明书。\n",
    "\n",
    "根据技术规格说明书提供的信息编写产品描述，该规格说明书由三个反引号分隔。\n",
    "\n",
    "描述旨在面向家具零售商，因此应具有技术性质，并侧重于产品构造材料。\n",
    "\n",
    "在描述的末尾，包括技术规格说明书中每个7个字符的产品ID。\n",
    "\n",
    "在描述后，包括一个表格，给出产品的尺寸。该表格应具有两列。在第一列中包括尺寸名称。在第二列中仅包括英寸的测量值。\n",
    "\n",
    "将表格命名为“产品尺寸”。\n",
    "\n",
    "将所有内容格式化为可在网站中使用的HTML。将描述放在<div>元素中。\n",
    "\n",
    "技术规格说明书：```{fact_sheet_chair}```\n",
    "\"\"\"\n",
    "\n",
    "response = get_completion(prompt)\n",
    "print(response)"
   ]
  },
  {
   "cell_type": "code",
   "execution_count": 11,
   "metadata": {},
   "outputs": [
    {
     "data": {
      "text/html": [
       "<div>\n",
       "<h2>产品描述</h2>\n",
       "<p>这款中世纪风格的办公家具系列包括文件柜、书桌、书架和会议桌等。您可以选择多种外壳颜色和底座饰面，以及软垫选项。底座饰面可以是不锈钢、哑光黑色、光泽白色或铬。椅子可以有扶手或没有扶手，适用于家庭或商业环境，并且符合合同使用标准。</p>\n",
       "<p>座位采用HD36泡沫，外壳底座滑轮采用铸铝和改性尼龙PA6 / PA66涂层。座椅泡沫密度有两种选择：中等（1.8磅/立方英尺）或高（2.8磅/立方英尺）。您还可以选择软地板或硬地板脚轮选项，以及无扶手或8个位置的PU扶手。</p>\n",
       "<p>这款办公家具系列的底座采用5个轮子的塑料涂层铝底座，具有气动椅子调节功能，方便升降操作。外壳厚度为10毫米。这款办公家具系列的原产国是意大利。</p>\n",
       "<p>产品ID：SWC-100</p>\n",
       "</div>\n",
       "\n",
       "<table>\n",
       "  <tr>\n",
       "    <td>宽度</td>\n",
       "    <td>20.87英寸</td>\n",
       "  </tr>\n",
       "  <tr>\n",
       "    <td>深度</td>\n",
       "    <td>20.08英寸</td>\n",
       "  </tr>\n",
       "  <tr>\n",
       "    <td>高度</td>\n",
       "    <td>31.50英寸</td>\n",
       "  </tr>\n",
       "  <tr>\n",
       "    <td>座高</td>\n",
       "    <td>17.32英寸</td>\n",
       "  </tr>\n",
       "  <tr>\n",
       "    <td>座深</td>\n",
       "    <td>16.14英寸</td>\n",
       "  </tr>\n",
       "</table>\n",
       "\n",
       "<h2>产品尺寸</h2>"
      ],
      "text/plain": [
       "<IPython.core.display.HTML object>"
      ]
     },
     "metadata": {},
     "output_type": "display_data"
    }
   ],
   "source": [
    "from IPython.display import display, HTML\n",
    "display(HTML(response))"
   ]
  },
  {
   "cell_type": "code",
   "execution_count": null,
   "metadata": {},
   "outputs": [],
   "source": []
  }
 ],
 "metadata": {
  "kernelspec": {
   "display_name": "Python 3 (ipykernel)",
   "language": "python",
   "name": "python3"
  },
  "language_info": {
   "codemirror_mode": {
    "name": "ipython",
    "version": 3
   },
   "file_extension": ".py",
   "mimetype": "text/x-python",
   "name": "python",
   "nbconvert_exporter": "python",
   "pygments_lexer": "ipython3",
   "version": "3.10.9"
  },
  "nbTranslate": {
   "displayLangs": [
    "*"
   ],
   "hotkey": "alt-t",
   "langInMainMenu": true,
   "sourceLang": "en",
   "targetLang": "fr",
   "useGoogleTranslate": true
  }
 },
 "nbformat": 4,
 "nbformat_minor": 2
}
