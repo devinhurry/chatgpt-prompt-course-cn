{
 "cells": [
  {
   "cell_type": "markdown",
   "metadata": {},
   "source": [
    "# 总结\n",
    "在这节课中，你将以特定主题为重点对文本进行总结。"
   ]
  },
  {
   "cell_type": "code",
   "execution_count": 1,
   "metadata": {},
   "outputs": [],
   "source": [
    "import openai\n",
    "import os\n",
    "\n",
    "from dotenv import load_dotenv, find_dotenv\n",
    "_ = load_dotenv(find_dotenv()) # 读取本地的 .env 文件\n",
    "\n",
    "openai.api_key  = os.getenv('OPENAI_API_KEY')"
   ]
  },
  {
   "cell_type": "code",
   "execution_count": 2,
   "metadata": {},
   "outputs": [],
   "source": [
    "def get_completion(prompt, model=\"gpt-3.5-turbo\"):\n",
    "    messages = [{\"role\": \"user\", \"content\": prompt}]\n",
    "    response = openai.ChatCompletion.create(\n",
    "        model=model,\n",
    "        messages=messages,\n",
    "        temperature=0, # 这是模型输出的随机程度\n",
    "    )\n",
    "    return response.choices[0].message[\"content\"]"
   ]
  },
  {
   "cell_type": "markdown",
   "metadata": {},
   "source": [
    "## 需要总结的文本"
   ]
  },
  {
   "cell_type": "code",
   "execution_count": 3,
   "metadata": {},
   "outputs": [],
   "source": [
    "prod_review = \"\"\"\n",
    "我为女儿的生日买了这个熊猫毛绒玩具，她非常喜欢，到处都带着它。它很柔软，\\\n",
    "超级可爱，脸上有友好的表情。但是相对于我付出的代价，它有点小。我认为可能有其他\\\n",
    "同样价格但更大的选择。它比预期提前了一天到达，所以我在把它送给女儿之前自己玩了一下。\n",
    "\"\"\""
   ]
  },
  {
   "cell_type": "markdown",
   "metadata": {},
   "source": [
    "## 用一个词/句子/字符限制进行总结"
   ]
  },
  {
   "cell_type": "code",
   "execution_count": 4,
   "metadata": {},
   "outputs": [
    {
     "name": "stdout",
     "output_type": "stream",
     "text": [
      "柔软可爱的熊猫毛绒玩具，女儿非常喜欢，但有点小。提前一天到达。```\n"
     ]
    }
   ],
   "source": [
    "prompt = f\"\"\"\n",
    "您的任务是从电子商务网站上生成产品评论的简短摘要。\n",
    "\n",
    "请在以下评论中进行总结，使用三个反引号分隔，最多30个单词。\n",
    "\n",
    "评论：```{prod_review}```\n",
    "\"\"\"\n",
    "\n",
    "response = get_completion(prompt)\n",
    "print(response)"
   ]
  },
  {
   "cell_type": "markdown",
   "metadata": {},
   "source": [
    "## 重点关注运输和交付的总结"
   ]
  },
  {
   "cell_type": "code",
   "execution_count": 5,
   "metadata": {},
   "outputs": [
    {
     "name": "stdout",
     "output_type": "stream",
     "text": [
      "这个熊猫毛绒玩具很可爱，但有点小。建议提供更大的选择。交付比预期提前一天。\n"
     ]
    }
   ],
   "source": [
    "prompt = f\"\"\"\n",
    "您的任务是从电子商务网站的产品评论中生成一个简短的摘要，以向运输部门提供反馈。\n",
    "\n",
    "请在以下评论中进行总结，使用三个反引号分隔，最多30个单词，并关注提到产品的任何运输和交付方面。\n",
    "\n",
    "评论：```{prod_review}```\n",
    "\"\"\"\n",
    "\n",
    "response = get_completion(prompt)\n",
    "print(response)"
   ]
  },
  {
   "cell_type": "markdown",
   "metadata": {},
   "source": [
    "## 以价格和价值为重点进行总结"
   ]
  },
  {
   "cell_type": "code",
   "execution_count": 6,
   "metadata": {},
   "outputs": [
    {
     "name": "stdout",
     "output_type": "stream",
     "text": [
      "可爱的熊猫毛绒玩具，柔软友好，但相对价格有点小，可能有更大的选择。提前一天到达。\n"
     ]
    }
   ],
   "source": [
    "prompt = f\"\"\"\n",
    "您的任务是从电子商务网站的产品评论中生成一个简短的摘要，以向负责确定产品价格的定价部门提供反馈。\n",
    "\n",
    "请在三个反引号分隔的下面总结评论，最多30个单词，并关注与价格和感知价值相关的任何方面。\n",
    "\n",
    "评论：```{prod_review}```\n",
    "\"\"\"\n",
    "\n",
    "response = get_completion(prompt)\n",
    "print(response)"
   ]
  },
  {
   "cell_type": "markdown",
   "metadata": {},
   "source": [
    "#### 注释\n",
    "- 摘要包括与重点主题无关的主题。"
   ]
  },
  {
   "cell_type": "markdown",
   "metadata": {},
   "source": [
    "## 尝试使用“提取”而不是“总结”"
   ]
  },
  {
   "cell_type": "code",
   "execution_count": 7,
   "metadata": {},
   "outputs": [
    {
     "name": "stdout",
     "output_type": "stream",
     "text": [
      "\"\"\"产品提前一天到达，但有点小，可能有更大的选择。\"\"\"\n"
     ]
    }
   ],
   "source": [
    "prompt = f\"\"\"\n",
    "您的任务是从电子商务网站的产品评论中提取相关信息，以向运输部门提供反馈。\n",
    "\n",
    "从下面的评论中，使用三重引号分隔，提取与运输和交付相关的信息。限制为30个单词。\n",
    "\n",
    "评论：```{prod_review}```\n",
    "\"\"\"\n",
    "\n",
    "response = get_completion(prompt)\n",
    "print(response)"
   ]
  },
  {
   "cell_type": "markdown",
   "metadata": {},
   "source": [
    "## 总结多个产品评论"
   ]
  },
  {
   "cell_type": "code",
   "execution_count": 8,
   "metadata": {},
   "outputs": [],
   "source": [
    "review_1 = prod_review \n",
    "\n",
    "# 一个立式台灯的评论\n",
    "review_2 = \"\"\"需要一盏漂亮的台灯放在卧室里，这个价格不高，\\\n",
    "还有额外的储物功能。很快就收到了——两天就到了。\\\n",
    "在运输过程中，灯的绳子断了，但公司很高兴地\\\n",
    "送来了一个新的。也在几天内送到了。很容易组装。\\\n",
    "然后我缺了一个零件，所以我联系了他们的支持部门，\\\n",
    "他们很快就给我补发了缺失的零件！对我来说，这是\\\n",
    "一家关心客户和产品的好公司。\"\"\"\n",
    "\n",
    "# 一个电动牙刷的评论\n",
    "review_3 = \"\"\"我的牙医建议我使用电动牙刷，这就是我买这个的原因。\\\n",
    "到目前为止，电池寿命似乎相当不错。在初始充电和\\\n",
    "第一周将充电器插在插座上以调节电池后，我已经拔掉了\\\n",
    "充电器，并在过去的3周里每天两次刷牙，都是在同一次\\\n",
    "充电的情况下完成的。但是牙刷头太小了。我见过比这\\\n",
    "个更大的婴儿牙刷。我希望头部更大，有不同长度的\\\n",
    "刷毛，以更好地清洁牙齿，因为这个不行。总的来说，\\\n",
    "如果你能在50美元左右买到这个，那就是一个不错的\\\n",
    "交易。制造商的替换头相当昂贵，但你可以购买价格更\\\n",
    "合理的通用头。这个牙刷让我感觉每天都去了牙医。\\\n",
    "我的牙齿感觉闪闪发光！\"\"\"\n",
    "\n",
    "# 一个搅拌机的评论\n",
    "review_4 = \"\"\"所以，他们仍然在11月的季节性销售中以约49美元的价格\\\n",
    "销售17件套装，折扣约一半，但由于某种原因（称其为\\\n",
    "价格欺诈），在12月的第二周左右，所有价格都上涨到\\\n",
    "约70-89美元的同一系统。11件套装的价格也比早期的\\\n",
    "29美元上涨了约10美元左右。所以它看起来还不错，\\\n",
    "但如果你看看底座，刀锁定的部分看起来不如几年前\\\n",
    "的早期版本那么好，但我打算对它非常温柔（例如，\\\n",
    "我先在搅拌机中碾碎非常硬的物品，如豆子、冰、\\\n",
    "米等，然后在搅拌机中将它们粉碎成我想要的份量，\\\n",
    "然后切换到打蛋器刀片，制作更细的面粉，如果需要\\\n",
    "更细/不那么浆糊状，就先使用交叉切割刀片制作\\\n",
    "冰沙，然后使用平刀片。当你制作冰沙时，把你\\\n",
    "计划使用的水果和蔬菜切碎并冷冻（如果使用菠\\\n",
    "菜-轻轻炖软菠菜，然后冷冻，直到准备使用-如果\\\n",
    "制作冰糕，使用一个小到中等大小的食品加工机），\\\n",
    "这样你就可以避免添加太多冰，如果有的话-当你\\\n",
    "制作你的冰沙时。大约一年后，电机发出奇怪的声音。\\\n",
    "我打电话给客户服务，但保修已经过期了，所以我\\\n",
    "不得不再买一个。FYI：这些产品的整体质量已经\\\n",
    "下降了，所以他们有点依靠品牌认可和消费者忠诚度\\\n",
    "来维持销售。两天内收到了。\"\"\"\n",
    "\n",
    "reviews = [review_1, \\\n",
    "           review_2, \\\n",
    "           review_3, \\\n",
    "           review_4]"
   ]
  },
  {
   "cell_type": "code",
   "execution_count": 9,
   "metadata": {},
   "outputs": [
    {
     "name": "stdout",
     "output_type": "stream",
     "text": [
      "0 柔软可爱的熊猫玩具，女儿喜欢，但有点小。提前到达。 \n",
      "\n",
      "1 漂亮台灯，储物功能，快速送达，优质客服，易组装，值得购买。 \n",
      "\n",
      "2 电动牙刷电池寿命好，但刷头太小，需要更大的刷毛长度。50美元左右是不错的交易，可以购买通用头。让牙齿感觉闪闪发光。 \n",
      "\n",
      "3 价格欺诈，底座质量下降，但功能强大，需要温柔对待，电机易损。 \n",
      "\n"
     ]
    }
   ],
   "source": [
    "for i in range(len(reviews)):\n",
    "    prompt = f\"\"\"\n",
    "    您的任务是从电子商务网站上生成产品评论的简短摘要。\n",
    "\n",
    "    在三个反引号中以最多20个单词的方式总结以下评论。\n",
    "\n",
    "    评论：```{reviews[i]}```\n",
    "    \"\"\"\n",
    "\n",
    "    response = get_completion(prompt)\n",
    "    print(i, response, \"\\n\")"
   ]
  },
  {
   "cell_type": "code",
   "execution_count": null,
   "metadata": {},
   "outputs": [],
   "source": []
  }
 ],
 "metadata": {
  "kernelspec": {
   "display_name": "Python 3 (ipykernel)",
   "language": "python",
   "name": "python3"
  },
  "language_info": {
   "codemirror_mode": {
    "name": "ipython",
    "version": 3
   },
   "file_extension": ".py",
   "mimetype": "text/x-python",
   "name": "python",
   "nbconvert_exporter": "python",
   "pygments_lexer": "ipython3",
   "version": "3.10.9"
  },
  "nbTranslate": {
   "displayLangs": [
    "*"
   ],
   "hotkey": "alt-t",
   "langInMainMenu": true,
   "sourceLang": "en",
   "targetLang": "fr",
   "useGoogleTranslate": true
  }
 },
 "nbformat": 4,
 "nbformat_minor": 2
}
