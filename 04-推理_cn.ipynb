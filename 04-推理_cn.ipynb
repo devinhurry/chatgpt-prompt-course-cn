{
 "cells": [
  {
   "cell_type": "markdown",
   "metadata": {},
   "source": [
    "# 推断\n",
    "在这个课程中，您将从产品评论和新闻文章中推断情感和主题。"
   ]
  },
  {
   "cell_type": "code",
   "execution_count": 1,
   "metadata": {},
   "outputs": [],
   "source": [
    "import openai\n",
    "import os\n",
    "\n",
    "from dotenv import load_dotenv, find_dotenv\n",
    "_ = load_dotenv(find_dotenv()) # 读取本地的 .env 文件\n",
    "\n",
    "openai.api_key  = os.getenv('OPENAI_API_KEY')"
   ]
  },
  {
   "cell_type": "code",
   "execution_count": 2,
   "metadata": {},
   "outputs": [],
   "source": [
    "def get_completion(prompt, model=\"gpt-3.5-turbo\"):\n",
    "    messages = [{\"role\": \"user\", \"content\": prompt}]\n",
    "    response = openai.ChatCompletion.create(\n",
    "        model=model,\n",
    "        messages=messages,\n",
    "        temperature=0, # 这是模型输出的随机程度\n",
    "    )\n",
    "    return response.choices[0].message[\"content\"]"
   ]
  },
  {
   "cell_type": "markdown",
   "metadata": {},
   "source": [
    "## 产品评论文本"
   ]
  },
  {
   "cell_type": "code",
   "execution_count": 3,
   "metadata": {},
   "outputs": [],
   "source": [
    "lamp_review = \"\"\"\n",
    "需要一盏漂亮的灯来装饰我的卧室，这个灯还有额外的储物功能，价格也不算太高。很快就收到了。\\\n",
    "在运输过程中，我们的灯的绳子断了，但公司很高兴地寄来了一个新的。也在几天内到达了。\\\n",
    "很容易组装。我缺少一个零件，所以我联系了他们的支持，他们很快就给我补发了缺失的零件！\\\n",
    "Lumina对我来说是一个非常关心客户和产品的优秀公司！\n",
    "\"\"\""
   ]
  },
  {
   "cell_type": "markdown",
   "metadata": {},
   "source": [
    "## 情感（积极/消极）"
   ]
  },
  {
   "cell_type": "code",
   "execution_count": 4,
   "metadata": {},
   "outputs": [
    {
     "name": "stdout",
     "output_type": "stream",
     "text": [
      "积极的情感。\n"
     ]
    }
   ],
   "source": [
    "prompt = f\"\"\"\n",
    "以下产品评论的情感是什么，\n",
    "它用三个反引号分隔？\n",
    "\n",
    "评论文本：'''{lamp_review}'''\n",
    "\"\"\"\n",
    "response = get_completion(prompt)\n",
    "print(response)\n"
   ]
  },
  {
   "cell_type": "code",
   "execution_count": 5,
   "metadata": {},
   "outputs": [
    {
     "name": "stdout",
     "output_type": "stream",
     "text": [
      "积极的\n"
     ]
    }
   ],
   "source": [
    "prompt = f\"\"\"\n",
    "以下产品评论的情感是什么，\n",
    "它用三个反引号括起来？\n",
    "\n",
    "请用一个单词回答，要么是“积极的”，\\\n",
    "要么是“消极的”。\n",
    "\n",
    "评论文本：'''{lamp_review}'''\n",
    "\"\"\"\n",
    "response = get_completion(prompt)\n",
    "print(response)"
   ]
  },
  {
   "cell_type": "markdown",
   "metadata": {},
   "source": [
    "## 辨别情绪类型"
   ]
  },
  {
   "cell_type": "code",
   "execution_count": 6,
   "metadata": {},
   "outputs": [
    {
     "name": "stdout",
     "output_type": "stream",
     "text": [
      "高兴, 满意, 赞赏, 感激, 推荐\n"
     ]
    }
   ],
   "source": [
    "prompt = f\"\"\"\n",
    "识别以下评论作者表达的情感列表。列表中不要超过五个项目。将您的答案格式化为用逗号分隔的小写单词列表。\n",
    "\n",
    "评论文本：'''{lamp_review}'''\n",
    "\"\"\"\n",
    "response = get_completion(prompt)\n",
    "print(response)"
   ]
  },
  {
   "cell_type": "markdown",
   "metadata": {},
   "source": [
    "## 辨别愤怒"
   ]
  },
  {
   "cell_type": "code",
   "execution_count": 7,
   "metadata": {},
   "outputs": [
    {
     "name": "stdout",
     "output_type": "stream",
     "text": [
      "否\n"
     ]
    }
   ],
   "source": [
    "prompt = f\"\"\"\n",
    "以下评论的作者是否表达了愤怒？\\\n",
    "评论使用三个反引号分隔。\\\n",
    "请用是或否回答。\n",
    "\n",
    "评论文本：'''{lamp_review}'''\n",
    "\"\"\"\n",
    "response = get_completion(prompt)\n",
    "print(response)"
   ]
  },
  {
   "cell_type": "markdown",
   "metadata": {},
   "source": [
    "## 从客户评论中提取产品和公司名称"
   ]
  },
  {
   "cell_type": "code",
   "execution_count": 8,
   "metadata": {},
   "outputs": [
    {
     "name": "stdout",
     "output_type": "stream",
     "text": [
      "{\n",
      "  \"Item\": \"灯\",\n",
      "  \"Brand\": \"Lumina\"\n",
      "}\n"
     ]
    }
   ],
   "source": [
    "prompt = f\"\"\"\n",
    "从评论文本中识别以下项目：\n",
    "- 评论者购买的物品\n",
    "- 制造该物品的公司\n",
    "\n",
    "评论使用三个反引号分隔。将您的响应格式化为具有“Item”和“Brand”作为键的JSON对象。如果信息不存在，请使用“unknown”作为值。尽可能简短地回答。\n",
    "\n",
    "评论文本：'''{lamp_review}'''\n",
    "\"\"\"\n",
    "response = get_completion(prompt)\n",
    "print(response)"
   ]
  },
  {
   "cell_type": "markdown",
   "metadata": {},
   "source": [
    "## 同时完成多项任务"
   ]
  },
  {
   "cell_type": "code",
   "execution_count": 9,
   "metadata": {},
   "outputs": [
    {
     "name": "stdout",
     "output_type": "stream",
     "text": [
      "{\n",
      "    \"Sentiment\": \"积极\",\n",
      "    \"Anger\": false,\n",
      "    \"Item\": \"灯\",\n",
      "    \"Brand\": \"Lumina\"\n",
      "}\n"
     ]
    }
   ],
   "source": [
    "prompt = f\"\"\"\n",
    "从评论文本中识别以下项目：\n",
    "- 情感（积极或消极）\n",
    "- 评论者是否表达愤怒？（是或否）\n",
    "- 评论者购买的物品\n",
    "- 制造该物品的公司\n",
    "\n",
    "评论使用三个反引号分隔。将您的响应格式化为JSON对象，\"Sentiment\"，\"Anger\"，\"Item\"和\"Brand\"作为键。如果信息不存在，请使用\"unknown\"作为值。尽可能简短地回答。将Anger值格式化为布尔值。\n",
    "\n",
    "评论文本：'''{lamp_review}'''\n",
    "\"\"\"\n",
    "response = get_completion(prompt)\n",
    "print(response)"
   ]
  },
  {
   "cell_type": "markdown",
   "metadata": {},
   "source": [
    "## 推断主题"
   ]
  },
  {
   "cell_type": "code",
   "execution_count": 10,
   "metadata": {},
   "outputs": [],
   "source": [
    "story = \"\"\"\n",
    "最近政府进行了一项调查，询问公共部门员工对他们所在部门的满意度。结果显示，NASA是最受欢迎的部门，满意度达到了95%。\n",
    "\n",
    "一位NASA员工约翰·史密斯对这一结果发表了评论，他说：“我并不惊讶NASA排名第一。这是一个非常棒的工作场所，有着优秀的人才和令人难以置信的机会。我很自豪能成为这样一个创新组织的一员。”\n",
    "\n",
    "NASA的管理团队也对这一结果表示欢迎，主任汤姆·约翰逊表示：“我们很高兴听到我们的员工对NASA的工作感到满意。我们有一支才华横溢、专注工作的团队，他们不懈努力地实现我们的目标，看到他们的辛勤工作得到回报真是太棒了。”\n",
    "\n",
    "调查还显示，社会保障局的满意度最低，只有45%的员工表示对自己的工作满意。政府承诺解决调查中员工提出的问题，并努力提高所有部门的工作满意度。\n",
    "\"\"\""
   ]
  },
  {
   "cell_type": "markdown",
   "metadata": {},
   "source": [
    "## 推断5个主题"
   ]
  },
  {
   "cell_type": "code",
   "execution_count": 11,
   "metadata": {},
   "outputs": [
    {
     "name": "stdout",
     "output_type": "stream",
     "text": [
      "1. 调查结果\n",
      "2. NASA的工作环境\n",
      "3. 约翰·史密斯的评论\n",
      "4. NASA管理团队的回应\n",
      "5. 社会保障局的满意度\n"
     ]
    }
   ],
   "source": [
    "prompt = f\"\"\"\n",
    "确定以下由三个反引号分隔的文本中正在讨论的五个主题。\\\n",
    "每个项目只需一到两个单词。\\\n",
    "将您的响应格式化为由逗号分隔的项目列表。\\\n",
    "文本示例：'''{story}'''\n",
    "\"\"\"\n",
    "response = get_completion(prompt)\n",
    "print(response)"
   ]
  },
  {
   "cell_type": "code",
   "execution_count": 12,
   "metadata": {},
   "outputs": [
    {
     "data": {
      "text/plain": [
       "['1. 调查结果\\n2. NASA的工作环境\\n3. 约翰·史密斯的评论\\n4. NASA管理团队的回应\\n5. 社会保障局的满意度']"
      ]
     },
     "execution_count": 12,
     "metadata": {},
     "output_type": "execute_result"
    }
   ],
   "source": [
    "response.split(sep=',')"
   ]
  },
  {
   "cell_type": "code",
   "execution_count": 13,
   "metadata": {},
   "outputs": [],
   "source": [
    "topic_list = [\n",
    "    \"nasa\", \"地方政府\", \"工程\", \\\n",
    "    \"员工满意度\", \"联邦政府\"\n",
    "]"
   ]
  },
  {
   "cell_type": "markdown",
   "metadata": {},
   "source": [
    "## 为特定主题创建新闻提醒"
   ]
  },
  {
   "cell_type": "code",
   "execution_count": 14,
   "metadata": {},
   "outputs": [
    {
     "name": "stdout",
     "output_type": "stream",
     "text": [
      "nasa - 1\n",
      "地方政府 - 0\n",
      "工程 - 0\n",
      "员工满意度 - 1\n",
      "联邦政府 - 1\n"
     ]
    }
   ],
   "source": [
    "prompt = f\"\"\"\n",
    "确定以下主题列表中的每个项目是否是以下用三个反引号分隔的文本中的主题。\n",
    "\n",
    "将您的答案作为列表，对于每个主题，使用0或1表示。\n",
    "\n",
    "主题列表：{\", \".join(topic_list)}\n",
    "\n",
    "文本示例：'''{story}'''\n",
    "\"\"\"\n",
    "response = get_completion(prompt)\n",
    "print(response)"
   ]
  },
  {
   "cell_type": "code",
   "execution_count": 16,
   "metadata": {},
   "outputs": [
    {
     "name": "stdout",
     "output_type": "stream",
     "text": [
      "警告：新的NASA故事！\n"
     ]
    }
   ],
   "source": [
    "topic_dict = {i.split(' - ')[0]: int(i.split(' - ')[1]) for i in response.split(sep='\\n')}\n",
    "if topic_dict['nasa'] == 1:\n",
    "    print(\"警告：新的NASA故事！\")"
   ]
  },
  {
   "cell_type": "code",
   "execution_count": null,
   "metadata": {},
   "outputs": [],
   "source": []
  }
 ],
 "metadata": {
  "kernelspec": {
   "display_name": "Python 3 (ipykernel)",
   "language": "python",
   "name": "python3"
  },
  "language_info": {
   "codemirror_mode": {
    "name": "ipython",
    "version": 3
   },
   "file_extension": ".py",
   "mimetype": "text/x-python",
   "name": "python",
   "nbconvert_exporter": "python",
   "pygments_lexer": "ipython3",
   "version": "3.10.9"
  },
  "nbTranslate": {
   "displayLangs": [
    "*"
   ],
   "hotkey": "alt-t",
   "langInMainMenu": true,
   "sourceLang": "en",
   "targetLang": "fr",
   "useGoogleTranslate": true
  }
 },
 "nbformat": 4,
 "nbformat_minor": 2
}
